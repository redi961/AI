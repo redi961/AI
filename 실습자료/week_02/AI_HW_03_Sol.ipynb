{
  "cells": [
    {
      "cell_type": "code",
      "execution_count": 2,
      "metadata": {
        "colab": {
          "base_uri": "https://localhost:8080/"
        },
        "id": "Z5xWhdJC-TXH",
        "outputId": "429a7bb4-b798-4284-f655-f0e646bcf7b1"
      },
      "outputs": [
        {
          "name": "stdout",
          "output_type": "stream",
          "text": [
            "Enter annual rate of interest: 5\n",
            "Enter monthly payment: 1932.56\n",
            "Enter beg. of month balance: 357819.11\n",
            "Interest paid for the month: $1,490.91\n",
            "Reduction of principal: %441.65\n",
            "End of month balance: $357,377.46\n"
          ]
        }
      ],
      "source": [
        "# 1번\n",
        "def main():\n",
        "  rate, payment, bal = getInput()\n",
        "\n",
        "  new_bal, interest, reduction = calcInterest(rate, payment, bal)\n",
        "\n",
        "  printOutput(new_bal, interest, reduction)\n",
        "\n",
        "\n",
        "def getInput():\n",
        "  rate = eval(input('Enter annual rate of interest: '))\n",
        "  payment = eval(input('Enter monthly payment: '))\n",
        "  bal = eval(input('Enter beg. of month balance: '))\n",
        "\n",
        "  rate /= 100.0\n",
        "\n",
        "  return rate, payment, bal\n",
        "\n",
        "def calcInterest(rate, payment, bal):\n",
        "  rate_month = rate / 12.0\n",
        "  interest = bal * rate_month\n",
        "\n",
        "  reduction = payment - interest\n",
        "\n",
        "  new_bal = bal - reduction\n",
        "\n",
        "  return new_bal, interest, reduction\n",
        "\n",
        "def printOutput(new_bal, interest, reduction):\n",
        "  print('Interest paid for the month: ${:,.2f}'.format(interest))\n",
        "  print('Reduction of principal: ${:,.2f}'.format(reduction))\n",
        "  print('End of month balance: ${:,.2f}'.format(new_bal))\n",
        "\n",
        "main()"
      ]
    },
    {
      "cell_type": "code",
      "execution_count": 8,
      "metadata": {
        "colab": {
          "base_uri": "https://localhost:8080/"
        },
        "id": "KVXU9UflKZMc",
        "outputId": "c6eb0c25-b496-4aa8-e7eb-577a9588f2ff"
      },
      "outputs": [
        {
          "name": "stdout",
          "output_type": "stream",
          "text": [
            "Enter an integer greater than 1: 1007\n",
            "Wow not prime\n"
          ]
        }
      ],
      "source": [
        "# 2번\n",
        "def main():\n",
        "  n = int(input('Enter an integer greater than 1: '))\n",
        "\n",
        "  if isPrime(n):\n",
        "    print(\"Wow prime\")\n",
        "  else:\n",
        "    print(\"Wow not prime\")\n",
        "\n",
        "def factorial(n):\n",
        "  val = 1\n",
        "  for k in range(1, n+1):\n",
        "    val *= k\n",
        "  return val\n",
        "\n",
        "def isPrime(n):\n",
        "  val = factorial(n-1) + 1\n",
        "\n",
        "  if (val % n) == 0:\n",
        "    # 나누어 떨어졌을 때\n",
        "    return True\n",
        "  else:\n",
        "    return False\n",
        "\n",
        "  # if val % n:\n",
        "  #   return False\n",
        "  # else:\n",
        "  #   # 나누어 떨어졌을 때\n",
        "  #   return True\n",
        "\n",
        "main()"
      ]
    },
    {
      "cell_type": "code",
      "execution_count": 13,
      "metadata": {
        "colab": {
          "base_uri": "https://localhost:8080/"
        },
        "id": "vcK08nvCMFgN",
        "outputId": "285ba16c-cde3-4b64-dbd9-1b78ec96f62c"
      },
      "outputs": [
        {
          "name": "stdout",
          "output_type": "stream",
          "text": [
            "Enter a word: DFDFDFDF\n",
            "No\n"
          ]
        }
      ],
      "source": [
        "# 3번 문자열이 연속되어있는 아스키 코드로 치환후 검사\n",
        "def main():\n",
        "  word = input('Enter a word: ')\n",
        "  if isTripleConsecutive(word):\n",
        "    print(\"Wow it has\")\n",
        "  else:\n",
        "    print(\"No\")\n",
        "\n",
        "def isTripleConsecutive(word):\n",
        "  l = len(word)\n",
        "\n",
        "  for i in range(l-2):\n",
        "    # ord -> asc코드로 전환\n",
        "    c1 = ord(word[i])\n",
        "    c2 = ord(word[i+1])\n",
        "    c3 = ord(word[i+2])\n",
        "\n",
        "    if c1+1 == c2 and c2+1 == c3:\n",
        "      return True\n",
        "\n",
        "  return False\n",
        "\n",
        "main()"
      ]
    },
    {
      "cell_type": "code",
      "execution_count": 23,
      "metadata": {
        "id": "AaqhOMQ2MqU2"
      },
      "outputs": [],
      "source": [
        "# 4번\n",
        "f = open(\"SomeMonths.txt\", 'r')\n",
        "names = [line.rstrip() for line in f.readlines() if 'r' in line.lower()]\n",
        "f.close()\n",
        "f = open(\"SomeMonthsWithoutR.txt\", \"w\")\n",
        "for line in names:\n",
        "  f.write(line + '\\n')\n",
        "f.close()"
      ]
    },
    {
      "cell_type": "code",
      "execution_count": 33,
      "metadata": {
        "id": "KaHX8NJWN4Ot"
      },
      "outputs": [],
      "source": [
        "# 5번\n",
        "f = open(\"Names.txt\", 'r')\n",
        "names = {line.rstrip() for line in f.readlines()}\n",
        "f.close()\n",
        "\n",
        "names.add(\"Park\")\n",
        "\n",
        "# names = list(names)\n",
        "# names.sort()\n",
        "\n",
        "names = sorted(names)\n",
        "\n",
        "f = open(\"NamesWithPark.txt\", \"w\")\n",
        "for line in names:\n",
        "  f.write(line + '\\n')\n",
        "f.close()\n"
      ]
    },
    {
      "cell_type": "code",
      "execution_count": 45,
      "metadata": {
        "colab": {
          "base_uri": "https://localhost:8080/"
        },
        "id": "HEQxuTOdO4sF",
        "outputId": "8f5c0532-2878-47db-cfdb-61d7d3effc1f"
      },
      "outputs": [
        {
          "name": "stdout",
          "output_type": "stream",
          "text": [
            "UNITS OF LENGTH\n",
            "inches         furlongs       yards          \n",
            "fathoms        feet           kilometers     \n",
            "meters         miles          rods           \n",
            "From: kilometers\n",
            "To: rods\n",
            "In kilometers: 1.5\n",
            "Calculated: 298.3182\n"
          ]
        }
      ],
      "source": [
        "# 6번\n",
        "\n",
        "def main():\n",
        "  data = getData()\n",
        "  print(\"UNITS OF LENGTH\")\n",
        "  for i, (key, value) in enumerate(data.items()):\n",
        "    print('{:15s}'.format(key), end='')\n",
        "    if (i+1) % 3 == 0:\n",
        "      print('')\n",
        "\n",
        "  unit_in = input('From: ')\n",
        "  unit_out = input('To: ')\n",
        "  length = eval(input('In {}: '.format(unit_in)))\n",
        "  l_output = length * data[unit_in] / data[unit_out]\n",
        "  print('Calculated: {:.4f}'.format(l_output))\n",
        "\n",
        "def getData():\n",
        "  f = open(\"Units.txt\", 'r')\n",
        "  names = [line.rstrip() for line in f.readlines()]\n",
        "  data = dict()\n",
        "  for d in names:\n",
        "    key, value = d.split(',')\n",
        "    data[key] = eval(value)\n",
        "  return data\n",
        "\n",
        "main()"
      ]
    },
    {
      "cell_type": "code",
      "execution_count": null,
      "metadata": {
        "id": "1FxLKEuiO5bc"
      },
      "outputs": [],
      "source": []
    }
  ],
  "metadata": {
    "colab": {
      "provenance": []
    },
    "kernelspec": {
      "display_name": "base",
      "language": "python",
      "name": "python3"
    },
    "language_info": {
      "name": "python",
      "version": "3.9.13 (main, Aug 25 2022, 23:51:50) [MSC v.1916 64 bit (AMD64)]"
    },
    "vscode": {
      "interpreter": {
        "hash": "ad2bdc8ecc057115af97d19610ffacc2b4e99fae6737bb82f5d7fb13d2f2c186"
      }
    }
  },
  "nbformat": 4,
  "nbformat_minor": 0
}
