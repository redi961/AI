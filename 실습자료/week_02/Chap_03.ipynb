{
 "cells": [
  {
   "cell_type": "code",
   "execution_count": 1,
   "metadata": {},
   "outputs": [
    {
     "name": "stdout",
     "output_type": "stream",
     "text": [
      "[Errno 2] No such file or directory: 'Open.txt'\n"
     ]
    }
   ],
   "source": [
    "def main() :\n",
    "  try :\n",
    "    fileName = input(\"Enter the name of a file :: \")\n",
    "    infile = open(fileName, 'r')\n",
    "    num = float(infile.readline())\n",
    "    print(1 / num)\n",
    "  except FileNotFoundError as exc1 :\n",
    "    print(exc1)\n",
    "  except ValueError as exc2 :\n",
    "    print(exc2)\n",
    "    \n",
    "main()"
   ]
  },
  {
   "cell_type": "code",
   "execution_count": 5,
   "metadata": {},
   "outputs": [
    {
     "name": "stdout",
     "output_type": "stream",
     "text": [
      "File not found\n"
     ]
    }
   ],
   "source": [
    "def main () :\n",
    "  total = 0\n",
    "  count = 0\n",
    "  foundFlag = True\n",
    "  try :\n",
    "    infile = open(\"Numbers.txt\", \"r\")\n",
    "  except FileNotFoundError :\n",
    "    print(\"File not found\")\n",
    "    foundFlag = False ## 파일이 없으므로 낫파운드가 표기됨\n",
    "  if foundFlag :\n",
    "    try :\n",
    "      for line in infile :\n",
    "        count += 1\n",
    "        total += float(line)\n",
    "      print(\"average : \", total / count)\n",
    "    except ValueError :\n",
    "      print(\"Line\", count, \n",
    "              \"could not be converted to a float\")\n",
    "      if count > 1 :\n",
    "        print(\"Average so far : \", total / (count - 1))\n",
    "        print(\"Total so far : \", total)\n",
    "      else :\n",
    "        print(\"No average can be calculated. \")\n",
    "\n",
    "    except ZeroDivisionError :\n",
    "      print(\"File was empty.\")\n",
    "    else :\n",
    "      print(\"Total : \", total)\n",
    "    finally :\n",
    "      infile.close()\n",
    "\n",
    "main()\n"
   ]
  },
  {
   "cell_type": "code",
   "execution_count": 151,
   "metadata": {},
   "outputs": [
    {
     "name": "stdout",
     "output_type": "stream",
     "text": [
      "water\n",
      "['earth', 'water']\n",
      "['air', 'water', 'fire', 'earth']\n",
      "4\n"
     ]
    }
   ],
   "source": [
    "import random\n",
    "\n",
    "elements = [\"earth\", \"air\", \"fire\", \"water\"]\n",
    "## 아무원소나 하나 선택\n",
    "print(random.choice(elements))\n",
    "## 지정한 숫자만큼의 요소들을 랜덤으로 뽑아 리스트로 반환\n",
    "print(random.sample(elements, 2))\n",
    "## shuffle 시퀀스를 뒤죽박죽으로 섞어놓는 함수.\n",
    "random.shuffle(elements)\n",
    "print(elements)\n",
    "print(random.randint(1,5)) # 1이상 5이하의 랜덤한 숫자 표기"
   ]
  },
  {
   "cell_type": "code",
   "execution_count": 81,
   "metadata": {},
   "outputs": [
    {
     "name": "stdout",
     "output_type": "stream",
     "text": [
      "Orange Orange Plum "
     ]
    }
   ],
   "source": [
    "def main () :\n",
    "  for i in range (3) :\n",
    "    outcome = spinWheel()\n",
    "    print(outcome, end = \" \")\n",
    "\n",
    "def spinWheel() :\n",
    "  n = random.randint(1, 20)\n",
    "  if n > 15 :\n",
    "    return \"Charries\"\n",
    "  elif n > 10 :\n",
    "    return \"Orange\"\n",
    "  elif n > 5 :\n",
    "    return \"Plum\"\n",
    "  elif n > 2:\n",
    "    return \"Melon\"\n",
    "  elif n > 1:\n",
    "    return \"Bell\"\n",
    "  else : \n",
    "    return \"Bar\"\n",
    "  \n",
    "main()\n",
    "\n"
   ]
  },
  {
   "cell_type": "code",
   "execution_count": 108,
   "metadata": {},
   "outputs": [
    {
     "name": "stdout",
     "output_type": "stream",
     "text": [
      "7\n"
     ]
    }
   ],
   "source": [
    "cnt = 0\n",
    "for _ in range(10) :\n",
    "  # 2개의 숫자 사이의 랜덤 실수를 리턴\n",
    "  if random.uniform(0, 1) < 0.7 :\n",
    "    cnt += 1\n",
    "\n",
    "print(cnt)"
   ]
  },
  {
   "cell_type": "code",
   "execution_count": 116,
   "metadata": {},
   "outputs": [
    {
     "name": "stdout",
     "output_type": "stream",
     "text": [
      "True\n",
      "True\n",
      "False\n"
     ]
    }
   ],
   "source": [
    "# 문자열의 앞뒤가 같은지 판단함 (대칭)\n",
    "def isPalindrome(word) :\n",
    "  #문자열 소문자로 변환\n",
    "  word = word.lower()\n",
    "  # 단어가 한글자 혹은 한글자보다 적을때\n",
    "  if len(word) <= 1 :\n",
    "    return True\n",
    "  # 첫글자와 가장 끝 글자의 비교\n",
    "  elif word[0] == word[-1] :\n",
    "    # 글자를 한칸씩 때내고 함수 재실행\n",
    "    word = word[1:-1]\n",
    "    return isPalindrome(word)\n",
    "  else :\n",
    "    return False\n",
    "\n",
    "print(isPalindrome(\"akkakka\"))\n",
    "print(isPalindrome(\"aa\"))\n",
    "print(isPalindrome(\"abc\"))"
   ]
  },
  {
   "cell_type": "code",
   "execution_count": 203,
   "metadata": {},
   "outputs": [
    {
     "name": "stdout",
     "output_type": "stream",
     "text": [
      "i h z\n"
     ]
    }
   ],
   "source": [
    "#9번\n",
    "## 알파벳 전부 입력\n",
    "alpha = [chr(c) for c in range(ord('a'), ord('z')+1)]\n",
    "\n",
    "#중복금지\n",
    "#selected = random.sample(alpha, 3)\n",
    "#print(' '.join(selected))\n",
    "\n",
    "## 중복허용\n",
    "selected = random.choices(alpha, k=3)\n",
    "print(' '.join(selected))"
   ]
  },
  {
   "cell_type": "code",
   "execution_count": 224,
   "metadata": {},
   "outputs": [
    {
     "name": "stdout",
     "output_type": "stream",
     "text": [
      "head 5993\n"
     ]
    }
   ],
   "source": [
    "#13번\n",
    "def main () :\n",
    "  head = 0\n",
    "  num = 0\n",
    "  for c in range(100) :\n",
    "    c = random.randint(0,1)\n",
    "    if c == 0 :\n",
    "      head += 1\n",
    "    else :\n",
    "      num += 1\n",
    "  print(\"head :: \", head)\n",
    "  print(\"number :: \", num)\n",
    "\n",
    "\n",
    "cnt = 0\n",
    "#Head 60% / Tail 40%\n",
    "for _ in range(10000) :\n",
    "  # 2개의 숫자 사이의 랜덤 실수를 리턴\n",
    "  # 0.6 보다 작을때 즉 60%의 경우의 수\n",
    "  if random.uniform(0, 1) < 0.6 :\n",
    "    # head\n",
    "    cnt += 1\n",
    "\n",
    "print (\"head\" , cnt)\n"
   ]
  },
  {
   "cell_type": "code",
   "execution_count": 1,
   "metadata": {},
   "outputs": [
    {
     "name": "stdout",
     "output_type": "stream",
     "text": [
      "5\n",
      "6\n",
      "7\n",
      "8\n",
      "9\n",
      "10\n"
     ]
    }
   ],
   "source": [
    "def displayhSequenceOfNumbers(m, n) :\n",
    "  while m <= n :\n",
    "    print(m)\n",
    "    m = m + 1\n",
    "\n",
    "def recursiveDisplay(m, n) :\n",
    "  if m <= n :\n",
    "    print(m)\n",
    "    recursiveDisplay(m+1, n)\n",
    "\n",
    "recursiveDisplay (5,10)"
   ]
  }
 ],
 "metadata": {
  "kernelspec": {
   "display_name": "base",
   "language": "python",
   "name": "python3"
  },
  "language_info": {
   "codemirror_mode": {
    "name": "ipython",
    "version": 3
   },
   "file_extension": ".py",
   "mimetype": "text/x-python",
   "name": "python",
   "nbconvert_exporter": "python",
   "pygments_lexer": "ipython3",
   "version": "3.9.13 (main, Aug 25 2022, 23:51:50) [MSC v.1916 64 bit (AMD64)]"
  },
  "orig_nbformat": 4,
  "vscode": {
   "interpreter": {
    "hash": "ad2bdc8ecc057115af97d19610ffacc2b4e99fae6737bb82f5d7fb13d2f2c186"
   }
  }
 },
 "nbformat": 4,
 "nbformat_minor": 2
}
