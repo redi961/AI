{
 "cells": [
  {
   "cell_type": "code",
   "execution_count": 11,
   "metadata": {},
   "outputs": [
    {
     "name": "stdout",
     "output_type": "stream",
     "text": [
      "Width : 4\n",
      "Height : 6\n",
      "Width : 1\n",
      "Height : 1\n",
      "Width : 4\n",
      "Height : 1\n"
     ]
    }
   ],
   "source": [
    "## import 간 오류 발생시 참고 https://incomeplus.tistory.com/187\n",
    "## ctrl + shift + p 이후 python 인터프린터 경로 재설정\n",
    "## 오류 발생할때마다 재설정 해줘야 할것으로 보임\n",
    "\n",
    "from Rectangle import *\n",
    "\n",
    "r = Rectangle(4, 6)\n",
    "print(r)\n",
    "\n",
    "# 공백으로 인하여 기본값이 들어감\n",
    "r = Rectangle()\n",
    "print(r)\n",
    "\n",
    "# Width만 실행됨\n",
    "r = Rectangle(4)\n",
    "print(r)"
   ]
  },
  {
   "cell_type": "code",
   "execution_count": 16,
   "metadata": {},
   "outputs": [
    {
     "name": "stdout",
     "output_type": "stream",
     "text": [
      "width : 5\n",
      "height : 4\n",
      "area : 20\n",
      "perimeter : 18\n"
     ]
    }
   ],
   "source": [
    "r = Rectangle()\n",
    "r.setHeight(4)\n",
    "r.setWidth(5)\n",
    "\n",
    "print(\"width :\", r.getWidth())\n",
    "print(\"height :\", r.getHeight())\n",
    "print(\"area :\", r.area())\n",
    "print(\"perimeter :\", + r.perimeter())"
   ]
  },
  {
   "cell_type": "code",
   "execution_count": 22,
   "metadata": {},
   "outputs": [
    {
     "name": "stdout",
     "output_type": "stream",
     "text": [
      "\n",
      "Name\tGrade\n",
      "min\tB\n"
     ]
    }
   ],
   "source": [
    "class LGstudent : \n",
    "  def __init__(self, name = \"\" , midterm = 0, final = 0) :\n",
    "    self._name = name\n",
    "    self._midterm = midterm\n",
    "    self._final = final\n",
    "  \n",
    "  def setName(self, name) :\n",
    "    self._name = name\n",
    "  \n",
    "  def setMidterm(self, midterm) :\n",
    "    self._midterm = midterm\n",
    "  \n",
    "  def setFinal(self, final) :\n",
    "    self._final = final \n",
    "\n",
    "  def calcSemGrade (self) :\n",
    "    grade = (self._midterm + self._final) / 2\n",
    "    grade = round(grade)\n",
    "    if grade >= 90 :\n",
    "      return \"A\"\n",
    "    elif grade >= 80 :\n",
    "      return \"B\"\n",
    "    elif grade >= 70 :\n",
    "      return \"C\"\n",
    "    elif grade >= 60 :\n",
    "      return \"D\"\n",
    "    else :\n",
    "      return \"F\"\n",
    "\n",
    "  def __str__(self) :\n",
    "    return self._name + \"\\t\" + self.calcSemGrade()\n",
    "\n",
    "def main () :\n",
    "  name = input(\"Enter student's name :: \")\n",
    "  midterm = float(input(\"Enter grade on midterm exam3 :: \"))\n",
    "  final = float(input(\"Enter grade on final exam :: \"))\n",
    "\n",
    "  st = LGstudent(name, midterm, final)\n",
    "  print(\"\\nName\\tGrade\")\n",
    "  print(st)\n",
    "\n",
    "main()"
   ]
  },
  {
   "cell_type": "code",
   "execution_count": 4,
   "metadata": {},
   "outputs": [
    {
     "name": "stdout",
     "output_type": "stream",
     "text": [
      "\n",
      "NAME\tGRADE\n",
      "Kim\tB\n",
      "Min\tC\n"
     ]
    }
   ],
   "source": [
    "def main2() :\n",
    "  listOfStudents = []\n",
    "  carryOn = 'Y'\n",
    "  while carryOn == 'Y' :\n",
    "    st = LGstudent()\n",
    "    name = input(\"Enter student's name : \")\n",
    "    midterm = float (input(\"Enter student's grade on midterm exam : \"))\n",
    "    final = float (input(\"Enter student's grade on final exam : \"))\n",
    "\n",
    "    st = LGstudent(name, midterm, final)\n",
    "    listOfStudents.append(st)\n",
    "    carryOn = input(\"Do you want to continue (Y/N) ? \")\n",
    "    carryOn = carryOn.upper() # 대문자 치환\n",
    "  \n",
    "  print(\"\\nNAME\\tGRADE\")\n",
    "  # 리스트 모두 출력\n",
    "  for pupil in listOfStudents :\n",
    "    print (pupil)\n",
    "\n",
    "main2()"
   ]
  },
  {
   "cell_type": "code",
   "execution_count": 24,
   "metadata": {},
   "outputs": [],
   "source": [
    "class Student : \n",
    "  def __init__ (self, name=\"\", midterm =0, final = 0) :\n",
    "    self._name = name\n",
    "    self._midterm = midterm\n",
    "    self._final = final\n",
    "  \n",
    "  def setName(self, name) :\n",
    "    self._name = name\n",
    "  \n",
    "  def setMidterm(self, midterm) :\n",
    "    self._midterm = midterm\n",
    "  \n",
    "  def setFinal(self, final) :\n",
    "    self._final = final\n",
    "\n",
    "  def getName(self) :\n",
    "    return self._name\n",
    "  \n",
    "  def __str__(self) :\n",
    "    return self._name + \"\\t\" + self.calcSemGrade()\n",
    "\n",
    "class LGstudent(Student) :\n",
    "  def calcSemGrade(self) :\n",
    "    average = round((self._midterm + self._final) / 2)\n",
    "    if average  >= 90 :\n",
    "      return \"A\"\n",
    "    elif average  >= 80 :\n",
    "      return \"B\"\n",
    "    elif average  >= 70 :\n",
    "      return \"C\"\n",
    "    elif average  >= 60 :\n",
    "      return \"D\"\n",
    "    else :\n",
    "      return \"F\"\n",
    "\n",
    "class PFstudent(Student) :\n",
    "  def calcSemGrade(self) :\n",
    "    average = round((self._midterm + self._final) / 2)\n",
    "    if average >= 60 :\n",
    "      return \"Pass\"\n",
    "    else : \n",
    "      return \"Fail\""
   ]
  },
  {
   "cell_type": "code",
   "execution_count": 16,
   "metadata": {},
   "outputs": [
    {
     "name": "stdout",
     "output_type": "stream",
     "text": [
      "\n",
      "Name\tGRADE\n",
      "kim\tPass\n"
     ]
    }
   ],
   "source": [
    "import Student as stu\n",
    "\n",
    "def main () :\n",
    "  listOfStudents = obtainListOfStudents()\n",
    "  displayResults(listOfStudents)\n",
    "\n",
    "def obtainListOfStudents() :\n",
    "  listOfStudents = []\n",
    "  carryOn = 'Y'\n",
    "  while carryOn == 'Y' :\n",
    "    name = input(\"Enter student's name : \")\n",
    "    midterm = float (input(\"Enter student's grade on midterm exam : \"))\n",
    "    final = float (input(\"Enter student's grade on final exam : \"))\n",
    "    category = input(\"Enter category (LG or PF) : \")\n",
    "    if category.upper() == \"LG\" :\n",
    "      st = stu.LGstudent(name, midterm, final)\n",
    "    else :\n",
    "      st = stu.PFstudent(name, midterm, final)\n",
    "    listOfStudents.append(st)\n",
    "    carryOn = input(\"Do you want to continue (Y/N) ? \")\n",
    "    carryOn = carryOn.upper()\n",
    "  return listOfStudents\n",
    "\n",
    "def displayResults(listOfStudents) :\n",
    "  print(\"\\nName\\tGRADE\")\n",
    "  listOfStudents.sort(key = lambda x: x.getName())\n",
    "  for pupil in listOfStudents :\n",
    "    print(pupil)\n",
    "\n",
    "main()"
   ]
  },
  {
   "cell_type": "code",
   "execution_count": 4,
   "metadata": {},
   "outputs": [
    {
     "name": "stdout",
     "output_type": "stream",
     "text": [
      "\n",
      " NAME\tGRADE\tSTATUS\n",
      "min\tPass\tFull-time student\n"
     ]
    }
   ],
   "source": [
    "import StudentWithStatus as stu\n",
    "\n",
    "def main () :\n",
    "  name = input(\"Enter student's name : \")\n",
    "  midterm = float (input(\"Enter student's grade on midterm exam : \"))\n",
    "  final = float (input(\"Enter student's grade on final exam : \"))\n",
    "  category = input(\"Enter category (LG or PF) : \")\n",
    "  if category.upper() == \"LG\" :\n",
    "    st = stu.LGstudent(name, midterm, final)\n",
    "  else :\n",
    "    question = input (\"Is \" + name\n",
    "                    + \"a full time student (Y/N) \")\n",
    "    if question.upper() == 'Y' :\n",
    "      fullTime = True\n",
    "    else : \n",
    "      fullTime = False\n",
    "    st = stu.PFstudent(name, midterm, final, fullTime)\n",
    "  \n",
    "  print(\"\\n NAME\\tGRADE\\tSTATUS\")\n",
    "  print(st)\n",
    "\n",
    "main()"
   ]
  },
  {
   "cell_type": "code",
   "execution_count": 23,
   "metadata": {},
   "outputs": [
    {
     "name": "stdout",
     "output_type": "stream",
     "text": [
      "Reduction to lowest temps 5/3\n"
     ]
    }
   ],
   "source": [
    "class FractionTest :\n",
    "  def __init__ (self, numerator = 0, denominator = 1) :\n",
    "    self._numerator = numerator\n",
    "    self._denominator = denominator\n",
    "\n",
    "  def setNumerator(self, numerator) :\n",
    "    self._numerator = numerator\n",
    "  \n",
    "  def getNumerator(self) :\n",
    "    return self._numerator\n",
    "  \n",
    "  def setDenominator(self, denominator) :\n",
    "    self._denominator = denominator\n",
    "  \n",
    "  def getDenominator(self) :\n",
    "    return self._denominator\n",
    "\n",
    "  def GCD(self, m, n) :\n",
    "    while n != 0 :\n",
    "      t = n\n",
    "      n = m % n\n",
    "      m = t\n",
    "    return m\n",
    "\n",
    "  def reduce (self) :\n",
    "    gcd = self.GCD(self._numerator, self._denominator)\n",
    "    self._numerator = self._numerator // gcd\n",
    "    self._denominator = self._denominator // gcd\n",
    "\n",
    "def main() :\n",
    "  frac = FractionTest()\n",
    "  numerator = int(input(\"Enter numerator of fraction : \"))\n",
    "  frac.setNumerator(numerator)\n",
    "  denominator = int(input(\"Enter denominator of fraction : \"))\n",
    "  frac.setDenominator(denominator)\n",
    "  frac.reduce()\n",
    "  msg = \"Reduction to lowest temps\"\n",
    "  if frac.getDenominator () != 1 :\n",
    "    print(msg, str(frac.getNumerator()) + '/' + str(frac.getDenominator()))\n",
    "  else :\n",
    "    print (msg, frac.getNumerator())\n",
    "    \n",
    "main()"
   ]
  },
  {
   "cell_type": "code",
   "execution_count": 8,
   "metadata": {},
   "outputs": [],
   "source": []
  }
 ],
 "metadata": {
  "kernelspec": {
   "display_name": "base",
   "language": "python",
   "name": "python3"
  },
  "language_info": {
   "codemirror_mode": {
    "name": "ipython",
    "version": 3
   },
   "file_extension": ".py",
   "mimetype": "text/x-python",
   "name": "python",
   "nbconvert_exporter": "python",
   "pygments_lexer": "ipython3",
   "version": "3.9.13 (main, Aug 25 2022, 23:51:50) [MSC v.1916 64 bit (AMD64)]"
  },
  "orig_nbformat": 4,
  "vscode": {
   "interpreter": {
    "hash": "ad2bdc8ecc057115af97d19610ffacc2b4e99fae6737bb82f5d7fb13d2f2c186"
   }
  }
 },
 "nbformat": 4,
 "nbformat_minor": 2
}
