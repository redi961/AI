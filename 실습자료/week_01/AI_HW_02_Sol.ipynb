{
  "cells": [
    {
      "cell_type": "code",
      "execution_count": 4,
      "metadata": {
        "colab": {
          "base_uri": "https://localhost:8080/"
        },
        "id": "YmcSIsJxloiX",
        "outputId": "9164f7b8-cdfa-4aa6-fbca-d101b4424191"
      },
      "outputs": [
        {
          "name": "stdout",
          "output_type": "stream",
          "text": [
            "Enter a sentence: Reach for the stars.\n",
            "First word:  Reach\n",
            "Last word:  stars\n"
          ]
        }
      ],
      "source": [
        "sentence = input('Enter a sentence: ')\n",
        "words = sentence.split()\n",
        "print('First word: ', words[0])\n",
        "print('Last word: ', words[-1][:-1])"
      ]
    },
    {
      "cell_type": "code",
      "execution_count": 5,
      "metadata": {
        "colab": {
          "base_uri": "https://localhost:8080/"
        },
        "id": "luj4dH8ol5c-",
        "outputId": "acb00949-7fff-43a1-ce27-72bb7223d869"
      },
      "outputs": [
        {
          "name": "stdout",
          "output_type": "stream",
          "text": [
            "Enter a 3-part name: Michael Andrew Fox\n",
            "Middle name:  Andrew\n"
          ]
        }
      ],
      "source": [
        "name = input('Enter a 3-part name: ')\n",
        "name = name.split()\n",
        "print('Middle name: ', name[1])"
      ]
    },
    {
      "cell_type": "code",
      "execution_count": 11,
      "metadata": {
        "colab": {
          "base_uri": "https://localhost:8080/"
        },
        "id": "17ssnpVGmw6W",
        "outputId": "0b174593-b829-492b-d75b-9ed90f3ad5ba"
      },
      "outputs": [
        {
          "name": "stdout",
          "output_type": "stream",
          "text": [
            "How many numbers do you want to enter?: 5\n",
            "Enter a number: 1\n",
            "Enter a number: 5\n",
            "Enter a number: 7\n",
            "Enter a number: 9\n",
            "Enter a number: 3\n",
            "Median:  5\n"
          ]
        }
      ],
      "source": [
        "num = int(input('How many numbers do you want to enter?: '))\n",
        "\n",
        "numbers = []\n",
        "for k in range(num):\n",
        "  v = eval(input('Enter a number: '))\n",
        "  numbers.append(v)\n",
        "\n",
        "# 입력 순서가 정렬되어 있지 않기 때문에, 정렬을 해준다.\n",
        "numbers.sort()\n",
        "\n",
        "l = len(numbers)\n",
        "if l % 2 == 0:\n",
        "  # 짝수\n",
        "  v_med = (numbers[l // 2 - 1] + numbers[l // 2]) / 2\n",
        "else:\n",
        "  # 홀수\n",
        "  v_med = numbers[l // 2]\n",
        "\n",
        "print('Median: ', v_med)"
      ]
    },
    {
      "cell_type": "code",
      "execution_count": 15,
      "metadata": {
        "colab": {
          "base_uri": "https://localhost:8080/"
        },
        "id": "H0u-_Qccn83w",
        "outputId": "857e68fe-1185-4569-cbea-db885c37d16f"
      },
      "outputs": [
        {
          "name": "stdout",
          "output_type": "stream",
          "text": [
            "Starting word:  NAISNIENLGELTETWEORRSD\n",
            "Crossed out letters:  N I N E L E T T E R S\n",
            "Remaining letters:  A S I N G L E W O R D\n"
          ]
        }
      ],
      "source": [
        "starting_word = 'NAISNIENLGELTETWEORRSD'\n",
        "\n",
        "# PYTHON 고수\n",
        "crossed_out = starting_word[::2]\n",
        "remaining = starting_word[1::2]\n",
        "\n",
        "print('Starting word: ', starting_word)\n",
        "print('Crossed out letters: ', ' '.join(crossed_out))\n",
        "print('Remaining letters: ', ' '.join(remaining))"
      ]
    },
    {
      "cell_type": "code",
      "execution_count": 16,
      "metadata": {
        "colab": {
          "base_uri": "https://localhost:8080/"
        },
        "id": "rZFYYZMNz6gx",
        "outputId": "c384a86b-c49b-41eb-d1ed-461aeba733e3"
      },
      "outputs": [
        {
          "name": "stdout",
          "output_type": "stream",
          "text": [
            "Starting word:  NAISNIENLGELTETWEORRSD\n",
            "Crossed out letters:  N I N E L E T T E R S\n",
            "Remaining letters:  A S I N G L E W O R D\n"
          ]
        }
      ],
      "source": [
        "starting_word = 'NAISNIENLGELTETWEORRSD'\n",
        "\n",
        "crossed_out = []\n",
        "remaining = []\n",
        "length = len(starting_word)\n",
        "\n",
        "# PYTHON 초보\n",
        "for i in range(length):\n",
        "  if i % 2 == 0:\n",
        "    crossed_out.append(starting_word[i])\n",
        "  else:\n",
        "    remaining.append(starting_word[i])\n",
        "\n",
        "print('Starting word: ', starting_word)\n",
        "print('Crossed out letters: ', ' '.join(crossed_out))\n",
        "print('Remaining letters: ', ' '.join(remaining))"
      ]
    },
    {
      "cell_type": "code",
      "execution_count": 25,
      "metadata": {
        "colab": {
          "base_uri": "https://localhost:8080/"
        },
        "id": "c9j8omzX0md5",
        "outputId": "6e49c4d0-db53-4494-ef9f-443fd7540392"
      },
      "outputs": [
        {
          "name": "stdout",
          "output_type": "stream",
          "text": [
            "Since blah blah 2178 is 8712, it is a special number\n"
          ]
        }
      ],
      "source": [
        "def special_number(num):\n",
        "  # 금민경 고수\n",
        "  num_rev = int(str(num)[::-1])\n",
        "  # num_rev.reverse()\n",
        "  # num_rev = int(''.join(num_rev))\n",
        "\n",
        "  if 4*num == num_rev:\n",
        "    return True\n",
        "  else:\n",
        "    return False\n",
        "\n",
        "for i in range(1000, 10000):\n",
        "  if special_number(i):\n",
        "    print('Since blah blah {} is {}, it is a special number'.format(i, i*4))"
      ]
    },
    {
      "cell_type": "code",
      "execution_count": 23,
      "metadata": {
        "colab": {
          "base_uri": "https://localhost:8080/"
        },
        "id": "dKekS-Qg1Ff_",
        "outputId": "7e2ac5b9-45b8-4554-b42f-85409fe42da4"
      },
      "outputs": [
        {
          "data": {
            "text/plain": [
              "321"
            ]
          },
          "execution_count": 23,
          "metadata": {},
          "output_type": "execute_result"
        }
      ],
      "source": [
        "l = list(str(123))\n",
        "l.reverse()\n",
        "int(''.join(l))"
      ]
    },
    {
      "cell_type": "code",
      "execution_count": 38,
      "metadata": {
        "colab": {
          "base_uri": "https://localhost:8080/"
        },
        "id": "4IeL6Z381FZP",
        "outputId": "fe8e944d-8a9a-4049-fe4b-baf6beef456b"
      },
      "outputs": [
        {
          "name": "stdout",
          "output_type": "stream",
          "text": [
            "4\n"
          ]
        },
        {
          "data": {
            "text/plain": [
              "4"
            ]
          },
          "execution_count": 38,
          "metadata": {},
          "output_type": "execute_result"
        }
      ],
      "source": [
        "def my_count(str_orig, str_sub):\n",
        "  l_orig = len(str_orig)\n",
        "  l_sub = len(str_sub)\n",
        "\n",
        "  # Empty substring이 들어왔을 때 예외 처리\n",
        "  if l_sub == 0:\n",
        "    return l_orig + 1\n",
        "\n",
        "  idx = 0\n",
        "  cnt = 0\n",
        "  while idx <= l_orig - l_sub:\n",
        "    p_orig = str_orig[idx:idx+l_sub]\n",
        "\n",
        "    if p_orig == str_sub:\n",
        "      cnt += 1\n",
        "      idx += l_sub\n",
        "    else:\n",
        "      idx += 1\n",
        "  return cnt\n",
        "\n",
        "print(my_count('abdeffeeffeeffeeffee', 'ff'))\n",
        "# 정답 결과와 비교\n",
        "'abdeffeeffeeffeeffee'.count('ff')"
      ]
    },
    {
      "cell_type": "code",
      "execution_count": 37,
      "metadata": {
        "colab": {
          "base_uri": "https://localhost:8080/"
        },
        "id": "TYwP3Bwp3sdx",
        "outputId": "37953385-3253-4b72-8b62-4de1536295f8"
      },
      "outputs": [
        {
          "name": "stdout",
          "output_type": "stream",
          "text": [
            "First name: JS\n",
            "Last name: P\n",
            "Current salary: 48000\n",
            "New salary: $50,160.00\n"
          ]
        }
      ],
      "source": [
        "first = input('First name: ')\n",
        "last = input('Last name: ')\n",
        "salary = eval(input('Current salary: '))\n",
        "\n",
        "if salary < 40000:\n",
        "  new_salary = salary*1.05\n",
        "else:\n",
        "  new_salary = salary + 2000 + (salary - 40000)*0.02\n",
        "\n",
        "print('New salary: ${:,.2f}'.format(new_salary))"
      ]
    }
  ],
  "metadata": {
    "colab": {
      "provenance": []
    },
    "kernelspec": {
      "display_name": "base",
      "language": "python",
      "name": "python3"
    },
    "language_info": {
      "name": "python",
      "version": "3.9.13 (main, Aug 25 2022, 23:51:50) [MSC v.1916 64 bit (AMD64)]"
    },
    "vscode": {
      "interpreter": {
        "hash": "ad2bdc8ecc057115af97d19610ffacc2b4e99fae6737bb82f5d7fb13d2f2c186"
      }
    }
  },
  "nbformat": 4,
  "nbformat_minor": 0
}
